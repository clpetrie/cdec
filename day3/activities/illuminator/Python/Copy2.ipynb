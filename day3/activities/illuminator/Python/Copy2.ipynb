{
 "cells": [
  {
   "cell_type": "code",
   "execution_count": 1,
   "metadata": {
    "collapsed": false
   },
   "outputs": [],
   "source": [
    "\n",
    "import serial\n",
    "from time import sleep\n",
    "import numpy\n",
    "\n",
    "# Establish the connection with the serial port.\n",
    "# name should be the same as the Arduino serial name\n",
    "# Important, cannot have two devices reading the serial port simoustanly\n",
    "# MAC, LINUX -> example: /dev/cu.usbmodem1421\n",
    "# WIN -> example: COM4\n",
    "\n",
    "ser = serial.Serial('COM6', 9600)\n",
    "#ser = serial.Serial('/dev/tty.usbmodem1421')\n",
    "\n",
    "\n"
   ]
  },
  {
   "cell_type": "code",
   "execution_count": 2,
   "metadata": {
    "collapsed": false
   },
   "outputs": [
    {
     "ename": "SyntaxError",
     "evalue": "invalid syntax (<ipython-input-2-ec8369cbc251>, line 12)",
     "output_type": "error",
     "traceback": [
      "\u001b[1;36m  File \u001b[1;32m\"<ipython-input-2-ec8369cbc251>\"\u001b[1;36m, line \u001b[1;32m12\u001b[0m\n\u001b[1;33m    t to the Arduino\u001b[0m\n\u001b[1;37m       ^\u001b[0m\n\u001b[1;31mSyntaxError\u001b[0m\u001b[1;31m:\u001b[0m invalid syntax\n"
     ]
    }
   ],
   "source": [
    "#turn on the LED number 13\n",
    "sendValue = b'2000'\n",
    "\n",
    "# Convert the decimal number to ASCII then send i\n",
    "\n",
    "\n",
    "\n",
    "\n",
    "\n",
    "\n",
    "\n",
    "t to the Arduino\n",
    "ser.write(sendValue)\n",
    "ser.write(b'8255') #1= UV"
   ]
  },
  {
   "cell_type": "code",
   "execution_count": 3,
   "metadata": {
    "collapsed": false
   },
   "outputs": [
    {
     "data": {
      "text/plain": [
       "4"
      ]
     },
     "execution_count": 3,
     "metadata": {},
     "output_type": "execute_result"
    }
   ],
   "source": [
    "ser.write(b'2000') #2 = Blue"
   ]
  },
  {
   "cell_type": "code",
   "execution_count": 4,
   "metadata": {
    "collapsed": false
   },
   "outputs": [
    {
     "data": {
      "text/plain": [
       "4"
      ]
     },
     "execution_count": 4,
     "metadata": {},
     "output_type": "execute_result"
    }
   ],
   "source": [
    "ser.write(b'3000')  #3 = green"
   ]
  },
  {
   "cell_type": "code",
   "execution_count": 5,
   "metadata": {
    "collapsed": false
   },
   "outputs": [
    {
     "data": {
      "text/plain": [
       "4"
      ]
     },
     "execution_count": 5,
     "metadata": {},
     "output_type": "execute_result"
    }
   ],
   "source": [
    "ser.write(b'4000') #4  = amber"
   ]
  },
  {
   "cell_type": "code",
   "execution_count": 6,
   "metadata": {
    "collapsed": false
   },
   "outputs": [
    {
     "data": {
      "text/plain": [
       "4"
      ]
     },
     "execution_count": 6,
     "metadata": {},
     "output_type": "execute_result"
    }
   ],
   "source": [
    "#turn off the LED number 13\n",
    "ser.write(b'5000') # 5= red \n",
    "ser.write(b'6000') #6  = pink\n",
    "ser.write(b'7000')#unused\n",
    "ser.write(b'8000')#unused"
   ]
  },
  {
   "cell_type": "code",
   "execution_count": 7,
   "metadata": {
    "collapsed": false
   },
   "outputs": [
    {
     "data": {
      "text/plain": [
       "4"
      ]
     },
     "execution_count": 7,
     "metadata": {},
     "output_type": "execute_result"
    }
   ],
   "source": [
    "sendValue = b'1225'\n",
    "# Convert the decimal number to ASCII then send it to the Arduino\n",
    "ser.write(sendValue)\n",
    "ser.write(b'3255')\n",
    "ser.write(b'2255')\n",
    "ser.write(b'4255')\n",
    "ser.write(b'5255')\n",
    "ser.write(b'6255')\n",
    "ser.write(b'7255')"
   ]
  },
  {
   "cell_type": "code",
   "execution_count": null,
   "metadata": {
    "collapsed": false
   },
   "outputs": [],
   "source": [
    "a = '1' + str(255)\n",
    "b = str.encode(a)\n",
    "ser.write(b)"
   ]
  },
  {
   "cell_type": "code",
   "execution_count": null,
   "metadata": {
    "collapsed": true
   },
   "outputs": [],
   "source": [
    "ser.write(b'1000')\n",
    "for i in numpy.arange (0, 255, 1): #loop fades all lights in at the same time\n",
    "    sleep (0.1)\n",
    "    strx = '1' + str(i).zfill(3)\n",
    "    ser.write(str.encode(strx))\n",
    "    strb = '2' + str(i).zfill(3)\n",
    "    ser.write(str.encode(strb))\n",
    "    strc = '3' + str(i).zfill(3)\n",
    "    ser.write(str.encode(strc))\n",
    "    strd = '4' + str(i).zfill(3)\n",
    "    ser.write(str.encode(strd))\n",
    "    stre = '5' + str(i).zfill(3)\n",
    "    ser.write(str.encode(stre))\n",
    "    strf = '6' + str(i).zfill(3)\n",
    "    ser.write(str.encode(strf))"
   ]
  },
  {
   "cell_type": "code",
   "execution_count": null,
   "metadata": {
    "collapsed": false
   },
   "outputs": [],
   "source": [
    "ser.write(b'1000')  \n",
    "for i in numpy.arange (0, 255, 5):  #loops fade in each light in sequence \n",
    "    sleep (0.1)\n",
    "    strx = '1' + str(i).zfill(3)\n",
    "    ser.write(str.encode(strx))\n",
    "for i in numpy.arange (0, 255, 5):\n",
    "    sleep (0.1)\n",
    "    strx = '2' + str(i).zfill(3)\n",
    "    ser.write(str.encode(strx))\n",
    "for i in numpy.arange (0, 255, 5):\n",
    "    sleep (0.1)\n",
    "    strx = '3' + str(i).zfill(3)\n",
    "    ser.write(str.encode(strx))\n",
    "for i in numpy.arange (0, 255, 5):\n",
    "    sleep (0.1)\n",
    "    strx = '4' + str(i).zfill(3)\n",
    "    ser.write(str.encode(strx))\n",
    "for i in numpy.arange (0, 255, 5):\n",
    "    sleep (0.1)\n",
    "    strx = '5' + str(i).zfill(3)\n",
    "    ser.write(str.encode(strx))\n",
    "for i in numpy.arange (0, 255, 5):\n",
    "    sleep (0.1)\n",
    "    strx = '6' + str(i).zfill(3)\n",
    "    ser.write(str.encode(strx))"
   ]
  },
  {
   "cell_type": "code",
   "execution_count": null,
   "metadata": {
    "collapsed": false
   },
   "outputs": [],
   "source": [
    "# Test sending values from 0 - 255\n",
    "#RGB + UV should only use 4 channels \n",
    "# LEDMap = {r:1,g:2,b:3,uv:4}\n",
    "\n",
    "#up to red\n",
    "for x in range(0,256): # Blue\n",
    "    sleep(.01) # Delay for one tenth of a second\n",
    "    strx = '2' + str(x).zfill(3)\n",
    "    byteForm = str.encode(strx)\n",
    "    ser.write(byteForm)\n",
    "#up to yellow\n",
    "'''\n",
    "for x in range(0,256): #green\n",
    "    sleep(.1) \n",
    "    strx = '2' + str(x).zfill(3)\n",
    "    byteForm = str.encode(strx)\n",
    "    ser.write(byteForm)\n",
    " '''   "
   ]
  },
  {
   "cell_type": "code",
   "execution_count": null,
   "metadata": {
    "collapsed": false
   },
   "outputs": [],
   "source": [
    "#down to green    \n",
    "for x in range(255, -1, -1): \n",
    "    sleep(.1) \n",
    "    strx = '1' + str(x).zfill(3)\n",
    "    byteForm = str.encode(strx)\n",
    "    ser.write(byteForm)\n",
    "#up to teal    \n",
    "for x in range(256):\n",
    "    sleep(.1)\n",
    "    strx = '3' + str(x).zfill(3)\n",
    "    byteForm = str.encode(strx)\n",
    "    ser.write(byteForm)\n",
    "#down to blue\n",
    "for x in range(255, -1, -1):\n",
    "    sleep(.1) \n",
    "    strx = '2' + str(x).zfill(3)\n",
    "    byteForm = str.encode(strx)\n",
    "    ser.write(byteForm)\n",
    "#up to violet\n",
    "for x in range(256):\n",
    "    sleep(.1)\n",
    "    strx = '1' + str(x).zfill(3)\n",
    "    byteForm = str.encode(strx)\n",
    "    ser.write(byteForm)\n",
    "#down to nothing but \"UV\"\n",
    "for x in range(256):\n",
    "    sleep(.1)\n",
    "    strx = '1' + str(255-x).zfill(3)\n",
    "    byteForm = str.encode(strx)\n",
    "    ser.write(byteForm)\n",
    "    strx = '3' + str(255-x).zfill(3)\n",
    "    byteForm = str.encode(strx)\n",
    "    ser.write(byteForm)\n",
    "    strx = '4' + str(x).zfill(3)\n",
    "    byteForm = str.encode(strx)\n",
    "    ser.write(byteForm)\n",
    "\n",
    "#repeat loop with UV    \n",
    "for x in range(0,256):\n",
    "    sleep(.1) # Delay for one tenth of a second\n",
    "    strx = '1' + str(x).zfill(3)\n",
    "    byteForm = str.encode(strx)\n",
    "    ser.write(byteForm)\n",
    "#up to yellow\n",
    "for x in range(0,256):\n",
    "    sleep(.1) \n",
    "    strx = '2' + str(x).zfill(3)\n",
    "    byteForm = str.encode(strx)\n",
    "    ser.write(byteForm)\n",
    "\n",
    "#down to green    \n",
    "for x in range(255, -1, -1):\n",
    "    sleep(.1) \n",
    "    strx = '1' + str(x).zfill(3)\n",
    "    byteForm = str.encode(strx)\n",
    "    ser.write(byteForm)\n",
    "#up to teal    \n",
    "for x in range(256):\n",
    "    sleep(.1)\n",
    "    strx = '3' + str(x).zfill(3)\n",
    "    byteForm = str.encode(strx)\n",
    "    ser.write(byteForm)\n",
    "#down to blue\n",
    "for x in range(255, -1, -1):\n",
    "    sleep(.1) \n",
    "    strx = '2' + str(x).zfill(3)\n",
    "    byteForm = str.encode(strx)\n",
    "    ser.write(byteForm)\n",
    "#up to violet\n",
    "for x in range(256):\n",
    "    sleep(.1)\n",
    "    strx = '1' + str(x).zfill(3)\n",
    "    byteForm = str.encode(strx)\n",
    "    ser.write(byteForm)\n",
    "#fade to UV + white \n",
    "for x in range(256):\n",
    "    sleep(.1)\n",
    "    strx = '2' + str(x).zfill(3)\n",
    "    byteForm = str.encode(strx)\n",
    "    ser.write(byteForm)\n",
    "#to white \n",
    "for x in range(255, -1, -1):\n",
    "    sleep(.1) \n",
    "    strx = '4' + str(x).zfill(3)\n",
    "    byteForm = str.encode(strx)\n",
    "    ser.write(byteForm)\n",
    "#to black\n",
    "for x in range(255, -1, -1):\n",
    "    sleep(.1) \n",
    "    strx = '1' + str(x).zfill(3)\n",
    "    byteForm = str.encode(strx)\n",
    "    ser.write(byteForm)\n",
    "    strx = '2' + str(x).zfill(3)\n",
    "    byteForm = str.encode(strx)\n",
    "    ser.write(byteForm)\n",
    "    strx = '3' + str(x).zfill(3)\n",
    "    byteForm = str.encode(strx)\n",
    "    ser.write(byteForm)"
   ]
  },
  {
   "cell_type": "code",
   "execution_count": null,
   "metadata": {
    "collapsed": true
   },
   "outputs": [],
   "source": []
  },
  {
   "cell_type": "code",
   "execution_count": null,
   "metadata": {
    "collapsed": true
   },
   "outputs": [],
   "source": []
  }
 ],
 "metadata": {
  "anaconda-cloud": {},
  "kernelspec": {
   "display_name": "Python [Root]",
   "language": "python",
   "name": "Python [Root]"
  },
  "language_info": {
   "codemirror_mode": {
    "name": "ipython",
    "version": 3
   },
   "file_extension": ".py",
   "mimetype": "text/x-python",
   "name": "python",
   "nbconvert_exporter": "python",
   "pygments_lexer": "ipython3",
   "version": "3.5.2"
  }
 },
 "nbformat": 4,
 "nbformat_minor": 0
}
