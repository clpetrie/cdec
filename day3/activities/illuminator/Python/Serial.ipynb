{
 "cells": [
  {
   "cell_type": "code",
   "execution_count": 2,
   "metadata": {
    "collapsed": false
   },
   "outputs": [],
   "source": [
    "\n",
    "import serial\n",
    "from time import sleep\n",
    "import numpy\n",
    "\n",
    "# Establish the connection with the serial port.\n",
    "# name should be the same as the Arduino serial name\n",
    "# Important, cannot have two devices reading the serial port simoustanly\n",
    "# MAC, LINUX -> example: /dev/cu.usbmodem1421\n",
    "# WIN -> example: COM4\n",
    "\n",
    "ser = serial.Serial('COM6', 9600)\n",
    "\n",
    "\n"
   ]
  },
  {
   "cell_type": "code",
   "execution_count": 3,
   "metadata": {
    "collapsed": false
   },
   "outputs": [
    {
     "data": {
      "text/plain": [
       "4"
      ]
     },
     "execution_count": 3,
     "metadata": {},
     "output_type": "execute_result"
    }
   ],
   "source": [
    "\n",
    "#turn on the LED number 13\n",
    "sendValue = b'2000'\n",
    "\n",
    "# Convert the decimal number to ASCII then send it to the Arduino\n",
    "ser.write(sendValue)\n",
    "ser.write(b'1000') #1= UV"
   ]
  },
  {
   "cell_type": "code",
   "execution_count": 4,
   "metadata": {
    "collapsed": false
   },
   "outputs": [
    {
     "data": {
      "text/plain": [
       "4"
      ]
     },
     "execution_count": 4,
     "metadata": {},
     "output_type": "execute_result"
    }
   ],
   "source": [
    "ser.write(b'2000') #2 = Blue"
   ]
  },
  {
   "cell_type": "code",
   "execution_count": 5,
   "metadata": {
    "collapsed": false
   },
   "outputs": [
    {
     "data": {
      "text/plain": [
       "4"
      ]
     },
     "execution_count": 5,
     "metadata": {},
     "output_type": "execute_result"
    }
   ],
   "source": [
    "ser.write(b'3000')  #3 = green"
   ]
  },
  {
   "cell_type": "code",
   "execution_count": 6,
   "metadata": {
    "collapsed": false
   },
   "outputs": [
    {
     "data": {
      "text/plain": [
       "4"
      ]
     },
     "execution_count": 6,
     "metadata": {},
     "output_type": "execute_result"
    }
   ],
   "source": [
    "ser.write(b'4000') #4  = amber"
   ]
  },
  {
   "cell_type": "code",
   "execution_count": 7,
   "metadata": {
    "collapsed": false
   },
   "outputs": [
    {
     "data": {
      "text/plain": [
       "4"
      ]
     },
     "execution_count": 7,
     "metadata": {},
     "output_type": "execute_result"
    }
   ],
   "source": [
    "#turn off the LED number 13\n",
    "ser.write(b'5000') # 5= red \n",
    "ser.write(b'6000') #6  = pink\n",
    "ser.write(b'7000')#unused\n",
    "ser.write(b'8000')#unused"
   ]
  },
  {
   "cell_type": "code",
   "execution_count": 19,
   "metadata": {
    "collapsed": false
   },
   "outputs": [
    {
     "data": {
      "text/plain": [
       "4"
      ]
     },
     "execution_count": 19,
     "metadata": {},
     "output_type": "execute_result"
    }
   ],
   "source": [
    "sendValue = b'1225'\n",
    "# Convert the decimal number to ASCII then send it to the Arduino\n",
    "ser.write(sendValue)\n",
    "ser.write(b'3255')\n",
    "ser.write(b'2255')\n",
    "ser.write(b'4255')\n",
    "ser.write(b'5255')\n",
    "ser.write(b'6255')\n",
    "ser.write(b'7255')"
   ]
  },
  {
   "cell_type": "code",
   "execution_count": 17,
   "metadata": {
    "collapsed": false
   },
   "outputs": [
    {
     "data": {
      "text/plain": [
       "4"
      ]
     },
     "execution_count": 17,
     "metadata": {},
     "output_type": "execute_result"
    }
   ],
   "source": [
    "a = '1' + str(255)\n",
    "b = str.encode(a)\n",
    "ser.write(b)"
   ]
  },
  {
   "cell_type": "code",
   "execution_count": 13,
   "metadata": {
    "collapsed": false,
    "scrolled": true
   },
   "outputs": [
    {
     "name": "stdout",
     "output_type": "stream",
     "text": [
      "1000\n",
      "1006\n",
      "1012\n",
      "1018\n",
      "1025\n",
      "1031\n",
      "1037\n",
      "1043\n",
      "1049\n",
      "1056\n",
      "1062\n",
      "1068\n",
      "1074\n",
      "1080\n",
      "1086\n",
      "1092\n",
      "1097\n",
      "1103\n",
      "1109\n",
      "1115\n",
      "1120\n",
      "1126\n",
      "1131\n",
      "1136\n",
      "1142\n",
      "1147\n",
      "1152\n",
      "1157\n",
      "1162\n",
      "1167\n",
      "1171\n",
      "1176\n",
      "1180\n",
      "1185\n",
      "1189\n",
      "1193\n",
      "1197\n",
      "1201\n",
      "1205\n",
      "1209\n",
      "1212\n",
      "1215\n",
      "1219\n",
      "1222\n",
      "1225\n",
      "1228\n",
      "1230\n",
      "1233\n",
      "1236\n",
      "1238\n",
      "1240\n",
      "1242\n",
      "1244\n",
      "1246\n",
      "1247\n",
      "1249\n",
      "1250\n",
      "1251\n",
      "1252\n",
      "1253\n",
      "1253\n",
      "1254\n",
      "1254\n",
      "1254\n",
      "1254\n",
      "1254\n",
      "1254\n",
      "1254\n",
      "1253\n",
      "1252\n",
      "1251\n",
      "1250\n",
      "1249\n",
      "1248\n",
      "1246\n",
      "1245\n",
      "1243\n",
      "1241\n",
      "1239\n",
      "1237\n",
      "1234\n",
      "1232\n",
      "1229\n",
      "1226\n",
      "1223\n",
      "1220\n",
      "1217\n",
      "1214\n",
      "1210\n",
      "1207\n",
      "1203\n",
      "1199\n",
      "1195\n",
      "1191\n",
      "1187\n",
      "1183\n",
      "1178\n",
      "1174\n",
      "1169\n",
      "1164\n",
      "1159\n",
      "1154\n",
      "1149\n",
      "1144\n",
      "1139\n",
      "1134\n",
      "1128\n",
      "1123\n",
      "1117\n",
      "1112\n",
      "1106\n",
      "1100\n",
      "1095\n",
      "1089\n",
      "1083\n",
      "1077\n",
      "1071\n",
      "1065\n",
      "1059\n",
      "1053\n",
      "1046\n",
      "1040\n",
      "1034\n",
      "1028\n",
      "1021\n",
      "1015\n",
      "1009\n",
      "1003\n",
      "1003\n",
      "1009\n",
      "1015\n",
      "1021\n",
      "1028\n",
      "1034\n",
      "1040\n",
      "1046\n",
      "1053\n",
      "1059\n",
      "1065\n",
      "1071\n",
      "1077\n",
      "1083\n",
      "1089\n",
      "1095\n",
      "1100\n",
      "1106\n",
      "1112\n",
      "1117\n",
      "1123\n",
      "1128\n",
      "1134\n",
      "1139\n",
      "1144\n",
      "1149\n",
      "1154\n",
      "1159\n",
      "1164\n",
      "1169\n",
      "1174\n",
      "1178\n",
      "1183\n",
      "1187\n",
      "1191\n",
      "1195\n",
      "1199\n",
      "1203\n",
      "1207\n",
      "1210\n",
      "1214\n",
      "1217\n",
      "1220\n",
      "1223\n",
      "1226\n",
      "1229\n",
      "1232\n",
      "1234\n",
      "1237\n",
      "1239\n",
      "1241\n",
      "1243\n",
      "1245\n",
      "1246\n",
      "1248\n",
      "1249\n",
      "1250\n",
      "1251\n",
      "1252\n",
      "1253\n",
      "1254\n",
      "1254\n",
      "1254\n",
      "1254\n",
      "1254\n",
      "1254\n",
      "1254\n",
      "1253\n",
      "1253\n",
      "1252\n",
      "1251\n",
      "1250\n",
      "1249\n",
      "1247\n",
      "1246\n",
      "1244\n",
      "1242\n",
      "1240\n",
      "1238\n",
      "1236\n",
      "1233\n",
      "1230\n",
      "1228\n",
      "1225\n",
      "1222\n",
      "1219\n",
      "1215\n",
      "1212\n",
      "1209\n",
      "1205\n",
      "1201\n",
      "1197\n",
      "1193\n",
      "1189\n",
      "1185\n",
      "1180\n",
      "1176\n",
      "1171\n",
      "1167\n",
      "1162\n",
      "1157\n",
      "1152\n",
      "1147\n",
      "1142\n",
      "1136\n",
      "1131\n",
      "1126\n",
      "1120\n",
      "1115\n",
      "1109\n",
      "1103\n",
      "1097\n",
      "1092\n",
      "1086\n",
      "1080\n",
      "1074\n",
      "1068\n",
      "1062\n",
      "1056\n",
      "1049\n",
      "1043\n",
      "1037\n",
      "1031\n",
      "1025\n",
      "1018\n",
      "1012\n",
      "1006\n"
     ]
    }
   ],
   "source": [
    "from math import *\n",
    "ser.write(b'1000')\n",
    "for i in numpy.arange (0, 255, 1): #loop fades all lights in at the same time\n",
    "    sleep (0.1)\n",
    "    #strx = '1' + str(abs(int(sin(i)*i))).zfill(3)\n",
    "    #strx = '1' + str(sin(i)).zfill(3)\n",
    "    strx = '1' + str(abs(int(sin(2*i*3.14159265358979323846264338327950288/255)*255))).zfill(3)\n",
    "    print (strx)\n",
    "    ser.write(str.encode(strx))"
   ]
  },
  {
   "cell_type": "code",
   "execution_count": 73,
   "metadata": {
    "collapsed": true
   },
   "outputs": [],
   "source": [
    "ser.write(b'1000')\n",
    "for i in numpy.arange (0, 255, 1): #loop fades all lights in at the same time\n",
    "    sleep (0.1)\n",
    "    strx = '1' + str(i).zfill(3)\n",
    "    ser.write(str.encode(strx))\n",
    "    strb = '2' + str(i).zfill(3)\n",
    "    ser.write(str.encode(strb))\n",
    "    strc = '3' + str(i).zfill(3)\n",
    "    ser.write(str.encode(strc))\n",
    "    strd = '4' + str(i).zfill(3)\n",
    "    ser.write(str.encode(strd))\n",
    "    stre = '5' + str(i).zfill(3)\n",
    "    ser.write(str.encode(stre))\n",
    "    strf = '6' + str(i).zfill(3)\n",
    "    ser.write(str.encode(strf))"
   ]
  },
  {
   "cell_type": "code",
   "execution_count": 69,
   "metadata": {
    "collapsed": false
   },
   "outputs": [],
   "source": [
    "ser.write(b'1000')  \n",
    "for i in numpy.arange (0, 255, 5):  #loops fade in each light in sequence \n",
    "    sleep (0.1)\n",
    "    strx = '1' + str(i).zfill(3)\n",
    "    ser.write(str.encode(strx))\n",
    "for i in numpy.arange (0, 255, 5):\n",
    "    sleep (0.1)\n",
    "    strx = '2' + str(i).zfill(3)\n",
    "    ser.write(str.encode(strx))\n",
    "for i in numpy.arange (0, 255, 5):\n",
    "    sleep (0.1)\n",
    "    strx = '3' + str(i).zfill(3)\n",
    "    ser.write(str.encode(strx))\n",
    "for i in numpy.arange (0, 255, 5):\n",
    "    sleep (0.1)\n",
    "    strx = '4' + str(i).zfill(3)\n",
    "    ser.write(str.encode(strx))\n",
    "for i in numpy.arange (0, 255, 5):\n",
    "    sleep (0.1)\n",
    "    strx = '5' + str(i).zfill(3)\n",
    "    ser.write(str.encode(strx))\n",
    "for i in numpy.arange (0, 255, 5):\n",
    "    sleep (0.1)\n",
    "    strx = '6' + str(i).zfill(3)\n",
    "    ser.write(str.encode(strx))"
   ]
  },
  {
   "cell_type": "code",
   "execution_count": 22,
   "metadata": {
    "collapsed": false
   },
   "outputs": [
    {
     "data": {
      "text/plain": [
       "\"\\nfor x in range(0,256): #green\\n    sleep(.1) \\n    strx = '2' + str(x).zfill(3)\\n    byteForm = str.encode(strx)\\n    ser.write(byteForm)\\n \""
      ]
     },
     "execution_count": 22,
     "metadata": {},
     "output_type": "execute_result"
    }
   ],
   "source": [
    "# Test sending values from 0 - 255\n",
    "#RGB + UV should only use 4 channels \n",
    "# LEDMap = {r:1,g:2,b:3,uv:4}\n",
    "\n",
    "#up to red\n",
    "for x in range(0,256): # Blue\n",
    "    sleep(.01) # Delay for one tenth of a second\n",
    "    strx = '2' + str(x).zfill(3)\n",
    "    byteForm = str.encode(strx)\n",
    "    ser.write(byteForm)\n",
    "#up to yellow\n",
    "'''\n",
    "for x in range(0,256): #green\n",
    "    sleep(.1) \n",
    "    strx = '2' + str(x).zfill(3)\n",
    "    byteForm = str.encode(strx)\n",
    "    ser.write(byteForm)\n",
    " '''   "
   ]
  },
  {
   "cell_type": "code",
   "execution_count": 18,
   "metadata": {
    "collapsed": false
   },
   "outputs": [],
   "source": [
    "#down to green    \n",
    "for x in range(255, -1, -1): \n",
    "    sleep(.1) \n",
    "    strx = '1' + str(x).zfill(3)\n",
    "    byteForm = str.encode(strx)\n",
    "    ser.write(byteForm)\n",
    "#up to teal    \n",
    "for x in range(256):\n",
    "    sleep(.1)\n",
    "    strx = '3' + str(x).zfill(3)\n",
    "    byteForm = str.encode(strx)\n",
    "    ser.write(byteForm)\n",
    "#down to blue\n",
    "for x in range(255, -1, -1):\n",
    "    sleep(.1) \n",
    "    strx = '2' + str(x).zfill(3)\n",
    "    byteForm = str.encode(strx)\n",
    "    ser.write(byteForm)\n",
    "#up to violet\n",
    "for x in range(256):\n",
    "    sleep(.1)\n",
    "    strx = '1' + str(x).zfill(3)\n",
    "    byteForm = str.encode(strx)\n",
    "    ser.write(byteForm)\n",
    "#down to nothing but \"UV\"\n",
    "for x in range(256):\n",
    "    sleep(.1)\n",
    "    strx = '1' + str(255-x).zfill(3)\n",
    "    byteForm = str.encode(strx)\n",
    "    ser.write(byteForm)\n",
    "    strx = '3' + str(255-x).zfill(3)\n",
    "    byteForm = str.encode(strx)\n",
    "    ser.write(byteForm)\n",
    "    strx = '4' + str(x).zfill(3)\n",
    "    byteForm = str.encode(strx)\n",
    "    ser.write(byteForm)\n",
    "\n",
    "#repeat loop with UV    \n",
    "for x in range(0,256):\n",
    "    sleep(.1) # Delay for one tenth of a second\n",
    "    strx = '1' + str(x).zfill(3)\n",
    "    byteForm = str.encode(strx)\n",
    "    ser.write(byteForm)\n",
    "#up to yellow\n",
    "for x in range(0,256):\n",
    "    sleep(.1) \n",
    "    strx = '2' + str(x).zfill(3)\n",
    "    byteForm = str.encode(strx)\n",
    "    ser.write(byteForm)\n",
    "\n",
    "#down to green    \n",
    "for x in range(255, -1, -1):\n",
    "    sleep(.1) \n",
    "    strx = '1' + str(x).zfill(3)\n",
    "    byteForm = str.encode(strx)\n",
    "    ser.write(byteForm)\n",
    "#up to teal    \n",
    "for x in range(256):\n",
    "    sleep(.1)\n",
    "    strx = '3' + str(x).zfill(3)\n",
    "    byteForm = str.encode(strx)\n",
    "    ser.write(byteForm)\n",
    "#down to blue\n",
    "for x in range(255, -1, -1):\n",
    "    sleep(.1) \n",
    "    strx = '2' + str(x).zfill(3)\n",
    "    byteForm = str.encode(strx)\n",
    "    ser.write(byteForm)\n",
    "#up to violet\n",
    "for x in range(256):\n",
    "    sleep(.1)\n",
    "    strx = '1' + str(x).zfill(3)\n",
    "    byteForm = str.encode(strx)\n",
    "    ser.write(byteForm)\n",
    "#fade to UV + white \n",
    "for x in range(256):\n",
    "    sleep(.1)\n",
    "    strx = '2' + str(x).zfill(3)\n",
    "    byteForm = str.encode(strx)\n",
    "    ser.write(byteForm)\n",
    "#to white \n",
    "for x in range(255, -1, -1):\n",
    "    sleep(.1) \n",
    "    strx = '4' + str(x).zfill(3)\n",
    "    byteForm = str.encode(strx)\n",
    "    ser.write(byteForm)\n",
    "#to black\n",
    "for x in range(255, -1, -1):\n",
    "    sleep(.1) \n",
    "    strx = '1' + str(x).zfill(3)\n",
    "    byteForm = str.encode(strx)\n",
    "    ser.write(byteForm)\n",
    "    strx = '2' + str(x).zfill(3)\n",
    "    byteForm = str.encode(strx)\n",
    "    ser.write(byteForm)\n",
    "    strx = '3' + str(x).zfill(3)\n",
    "    byteForm = str.encode(strx)\n",
    "    ser.write(byteForm)"
   ]
  },
  {
   "cell_type": "code",
   "execution_count": null,
   "metadata": {
    "collapsed": true
   },
   "outputs": [],
   "source": []
  }
 ],
 "metadata": {
  "anaconda-cloud": {},
  "kernelspec": {
   "display_name": "Python [Root]",
   "language": "python",
   "name": "Python [Root]"
  },
  "language_info": {
   "codemirror_mode": {
    "name": "ipython",
    "version": 3
   },
   "file_extension": ".py",
   "mimetype": "text/x-python",
   "name": "python",
   "nbconvert_exporter": "python",
   "pygments_lexer": "ipython3",
   "version": "3.5.2"
  }
 },
 "nbformat": 4,
 "nbformat_minor": 0
}
