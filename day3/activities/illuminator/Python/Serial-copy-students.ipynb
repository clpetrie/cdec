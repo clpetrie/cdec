{
 "cells": [
  {
   "cell_type": "code",
   "execution_count": 184,
   "metadata": {
    "collapsed": false
   },
   "outputs": [],
   "source": [
    "\n",
    "import serial\n",
    "from time import sleep\n",
    "import numpy\n",
    "\n",
    "# Establish the connection with the serial port.\n",
    "# name should be the same as the Arduino serial name\n",
    "# Important, cannot have two devices reading the serial port simoustanly\n",
    "# MAC, LINUX -> example: /dev/cu.usbmodem1421\n",
    "# WIN -> example: COM4\n",
    "\n",
    "#ser = serial.Serial('COM6', 9600)\n",
    "ser = serial.Serial('/dev/tty.usbmodem1411')\n",
    "\n",
    "\n"
   ]
  },
  {
   "cell_type": "code",
   "execution_count": 185,
   "metadata": {
    "collapsed": true
   },
   "outputs": [],
   "source": [
    "#turn on the LED number 13\n",
    "sendValue = b'2000'"
   ]
  },
  {
   "cell_type": "code",
   "execution_count": 186,
   "metadata": {
    "collapsed": false
   },
   "outputs": [
    {
     "data": {
      "text/plain": [
       "4"
      ]
     },
     "execution_count": 186,
     "metadata": {},
     "output_type": "execute_result"
    }
   ],
   "source": [
    "# Convert the decimal number to ASCII then send it to the Arduino\n",
    "ser.write(sendValue)\n",
    "ser.write(b'1000') #1= UV"
   ]
  },
  {
   "cell_type": "code",
   "execution_count": 187,
   "metadata": {
    "collapsed": false
   },
   "outputs": [
    {
     "data": {
      "text/plain": [
       "4"
      ]
     },
     "execution_count": 187,
     "metadata": {},
     "output_type": "execute_result"
    }
   ],
   "source": [
    "ser.write(b'2000') #2 = Blue"
   ]
  },
  {
   "cell_type": "code",
   "execution_count": 188,
   "metadata": {
    "collapsed": false
   },
   "outputs": [
    {
     "data": {
      "text/plain": [
       "4"
      ]
     },
     "execution_count": 188,
     "metadata": {},
     "output_type": "execute_result"
    }
   ],
   "source": [
    "ser.write(b'3000')  #3 = green"
   ]
  },
  {
   "cell_type": "code",
   "execution_count": 189,
   "metadata": {
    "collapsed": false
   },
   "outputs": [
    {
     "data": {
      "text/plain": [
       "4"
      ]
     },
     "execution_count": 189,
     "metadata": {},
     "output_type": "execute_result"
    }
   ],
   "source": [
    "ser.write(b'4000') #4  = amber"
   ]
  },
  {
   "cell_type": "code",
   "execution_count": 190,
   "metadata": {
    "collapsed": false
   },
   "outputs": [
    {
     "data": {
      "text/plain": [
       "4"
      ]
     },
     "execution_count": 190,
     "metadata": {},
     "output_type": "execute_result"
    }
   ],
   "source": [
    "#turn off the LED number 13\n",
    "ser.write(b'5000') # 5= red \n",
    "ser.write(b'6000') #6  = pink\n",
    "ser.write(b'7000')#unused\n",
    "ser.write(b'8000')#unused"
   ]
  },
  {
   "cell_type": "code",
   "execution_count": 191,
   "metadata": {
    "collapsed": true
   },
   "outputs": [],
   "source": [
    "# 4 -> orange\n",
    "# 3 -> Green\n",
    "# 1 -> UV\n",
    "# 2 -> Blue\n",
    "# 6-> Red\n",
    "# 5 -> Pink"
   ]
  },
  {
   "cell_type": "code",
   "execution_count": 192,
   "metadata": {
    "collapsed": false
   },
   "outputs": [
    {
     "data": {
      "text/plain": [
       "4"
      ]
     },
     "execution_count": 192,
     "metadata": {},
     "output_type": "execute_result"
    }
   ],
   "source": [
    "\n",
    "ser.write(b'5000')"
   ]
  },
  {
   "cell_type": "code",
   "execution_count": 199,
   "metadata": {
    "collapsed": false
   },
   "outputs": [
    {
     "data": {
      "text/plain": [
       "4"
      ]
     },
     "execution_count": 199,
     "metadata": {},
     "output_type": "execute_result"
    }
   ],
   "source": [
    "# Convert the decimal number to ASCII then send it to the Arduino\n",
    "ser.write(sendValue)\n",
    "ser.write(b'3000')\n",
    "ser.write(b'4000')\n",
    "ser.write(b'5000')\n",
    "ser.write(b'6000')\n",
    "ser.write(b'7000')\n",
    "ser.write(b'8000')"
   ]
  },
  {
   "cell_type": "code",
   "execution_count": 194,
   "metadata": {
    "collapsed": false
   },
   "outputs": [
    {
     "data": {
      "text/plain": [
       "4"
      ]
     },
     "execution_count": 194,
     "metadata": {},
     "output_type": "execute_result"
    }
   ],
   "source": [
    "a = '1' + str(255)\n",
    "b = str.encode(a)\n",
    "ser.write(b)"
   ]
  },
  {
   "cell_type": "code",
   "execution_count": null,
   "metadata": {
    "collapsed": true
   },
   "outputs": [],
   "source": []
  },
  {
   "cell_type": "code",
   "execution_count": 195,
   "metadata": {
    "collapsed": false
   },
   "outputs": [],
   "source": [
    "ser.write(b'1000')\n",
    "for i in numpy.arange (0, 255, 10): #loop fades all lights in at the same time\n",
    "    sleep (0.1)\n",
    "    strx = '1' + str(i).zfill(3)\n",
    "    ser.write(str.encode(strx))\n",
    "    strb = '2' + str(i).zfill(3)\n",
    "    ser.write(str.encode(strb))\n",
    "    strc = '3' + str(i).zfill(3)\n",
    "    ser.write(str.encode(strc))\n",
    "    strd = '4' + str(i).zfill(3)\n",
    "    ser.write(str.encode(strd))\n",
    "    stre = '5' + str(i).zfill(3)\n",
    "    ser.write(str.encode(stre))\n",
    "    strf = '6' + str(i).zfill(3)\n",
    "    ser.write(str.encode(strf))"
   ]
  },
  {
   "cell_type": "code",
   "execution_count": 201,
   "metadata": {
    "collapsed": false
   },
   "outputs": [
    {
     "data": {
      "text/plain": [
       "4"
      ]
     },
     "execution_count": 201,
     "metadata": {},
     "output_type": "execute_result"
    }
   ],
   "source": [
    "ser.write(b'1000')\n",
    "ser.write(b'2000')\n",
    "ser.write(b'3000')\n",
    "ser.write(b'4000')\n",
    "ser.write(b'5000')\n",
    "ser.write(b'6000')\n",
    "\n",
    "ser.write(b'1255')\n",
    "ser.write(b'2255')\n",
    "ser.write(b'3255')\n",
    "ser.write(b'4255')\n",
    "ser.write(b'5255')\n",
    "ser.write(b'6255')"
   ]
  },
  {
   "cell_type": "code",
   "execution_count": 198,
   "metadata": {
    "collapsed": false
   },
   "outputs": [
    {
     "name": "stdout",
     "output_type": "stream",
     "text": [
      "1000\n",
      "1005\n",
      "1010\n",
      "1015\n",
      "1020\n",
      "1025\n",
      "1030\n",
      "1035\n",
      "1040\n",
      "1045\n",
      "1050\n",
      "1055\n",
      "1060\n",
      "1065\n",
      "1070\n",
      "1075\n",
      "1080\n",
      "1085\n",
      "1090\n",
      "1095\n",
      "1100\n",
      "1105\n",
      "1110\n",
      "1115\n",
      "1120\n",
      "1125\n",
      "1130\n",
      "1135\n",
      "1140\n",
      "1145\n",
      "1150\n",
      "1155\n",
      "1160\n",
      "1165\n",
      "1170\n",
      "1175\n",
      "1180\n",
      "1185\n",
      "1190\n",
      "1195\n",
      "1200\n",
      "1205\n",
      "1210\n",
      "1215\n",
      "1220\n",
      "1225\n",
      "1230\n",
      "1235\n",
      "1240\n",
      "1245\n",
      "1250\n"
     ]
    }
   ],
   "source": [
    "for i in numpy.arange (0, 255, 5):  #loops fade in each light in sequence \n",
    "    sleep (0.1)\n",
    "    strx = '1' + str(i).zfill(3)\n",
    "    ser.write(str.encode(strx))\n",
    "    print strx\n",
    "ser.write(b'2000')  \n",
    "for i in numpy.arange (0, 255, 5):\n",
    "    sleep (0.1)\n",
    "    strx = '2' + str(i).zfill(3)\n",
    "    ser.write(str.encode(strx))\n",
    "for i in numpy.arange (0, 255, 5):\n",
    "    sleep (0.1)\n",
    "    strx = '3' + str(i).zfill(3)\n",
    "    ser.write(str.encode(strx))\n",
    "for i in numpy.arange (0, 255, 5):\n",
    "    sleep (0.1)\n",
    "    strx = '4' + str(i).zfill(3)\n",
    "    ser.write(str.encode(strx))\n",
    "for i in numpy.arange (0, 255, 5):\n",
    "    sleep (0.1)\n",
    "    strx = '5' + str(i).zfill(3)\n",
    "    ser.write(str.encode(strx))\n",
    "for i in numpy.arange (0, 255, 5):\n",
    "    sleep (0.1)\n",
    "    strx = '6' + str(i).zfill(3)\n",
    "    ser.write(str.encode(strx))"
   ]
  },
  {
   "cell_type": "code",
   "execution_count": null,
   "metadata": {
    "collapsed": false
   },
   "outputs": [],
   "source": [
    "# Test sending values from 0 - 255\n",
    "#RGB + UV should only use 4 channels \n",
    "# LEDMap = {r:1,g:2,b:3,uv:4}\n",
    "\n",
    "#up to red\n",
    "for x in range(0,256): # Blue\n",
    "    sleep(.01) # Delay for one tenth of a second\n",
    "    strx = '2' + str(x).zfill(3)\n",
    "    byteForm = str.encode(strx)\n",
    "    ser.write(byteForm)\n",
    "#up to yellow\n",
    "'''\n",
    "for x in range(0,256): #green\n",
    "    sleep(.1) \n",
    "    strx = '2' + str(x).zfill(3)\n",
    "    byteForm = str.encode(strx)\n",
    "    ser.write(byteForm)\n",
    " '''   "
   ]
  },
  {
   "cell_type": "code",
   "execution_count": 202,
   "metadata": {
    "collapsed": false
   },
   "outputs": [],
   "source": [
    "#down to green    \n",
    "for x in range(255, -1, -1): \n",
    "    sleep(.1) \n",
    "    strx = '1' + str(x).zfill(3)\n",
    "    byteForm = str.encode(strx)\n",
    "    ser.write(byteForm)\n",
    "#up to teal    \n",
    "for x in range(256):\n",
    "    sleep(.1)\n",
    "    strx = '3' + str(x).zfill(3)\n",
    "    byteForm = str.encode(strx)\n",
    "    ser.write(byteForm)\n",
    "#down to blue\n",
    "for x in range(255, -1, -1):\n",
    "    sleep(.1) \n",
    "    strx = '2' + str(x).zfill(3)\n",
    "    byteForm = str.encode(strx)\n",
    "    ser.write(byteForm)\n",
    "#up to violet\n",
    "for x in range(256):\n",
    "    sleep(.1)\n",
    "    strx = '1' + str(x).zfill(3)\n",
    "    byteForm = str.encode(strx)\n",
    "    ser.write(byteForm)\n",
    "#down to nothing but \"UV\"\n",
    "for x in range(256):\n",
    "    sleep(.1)\n",
    "    strx = '1' + str(255-x).zfill(3)\n",
    "    byteForm = str.encode(strx)\n",
    "    ser.write(byteForm)\n",
    "    strx = '3' + str(255-x).zfill(3)\n",
    "    byteForm = str.encode(strx)\n",
    "    ser.write(byteForm)\n",
    "    strx = '4' + str(x).zfill(3)\n",
    "    byteForm = str.encode(strx)\n",
    "    ser.write(byteForm)\n",
    "\n",
    "#repeat loop with UV    \n",
    "for x in range(0,256):\n",
    "    sleep(.1) # Delay for one tenth of a second\n",
    "    strx = '1' + str(x).zfill(3)\n",
    "    byteForm = str.encode(strx)\n",
    "    ser.write(byteForm)\n",
    "#up to yellow\n",
    "for x in range(0,256):\n",
    "    sleep(.1) \n",
    "    strx = '2' + str(x).zfill(3)\n",
    "    byteForm = str.encode(strx)\n",
    "    ser.write(byteForm)\n",
    "\n",
    "#down to green    \n",
    "for x in range(255, -1, -1):\n",
    "    sleep(.1) \n",
    "    strx = '1' + str(x).zfill(3)\n",
    "    byteForm = str.encode(strx)\n",
    "    ser.write(byteForm)\n",
    "#up to teal    \n",
    "for x in range(256):\n",
    "    sleep(.1)\n",
    "    strx = '3' + str(x).zfill(3)\n",
    "    byteForm = str.encode(strx)\n",
    "    ser.write(byteForm)\n",
    "#down to blue\n",
    "for x in range(255, -1, -1):\n",
    "    sleep(.1) \n",
    "    strx = '2' + str(x).zfill(3)\n",
    "    byteForm = str.encode(strx)\n",
    "    ser.write(byteForm)\n",
    "#up to violet\n",
    "for x in range(256):\n",
    "    sleep(.1)\n",
    "    strx = '1' + str(x).zfill(3)\n",
    "    byteForm = str.encode(strx)\n",
    "    ser.write(byteForm)\n",
    "#fade to UV + white \n",
    "for x in range(256):\n",
    "    sleep(.1)\n",
    "    strx = '2' + str(x).zfill(3)\n",
    "    byteForm = str.encode(strx)\n",
    "    ser.write(byteForm)\n",
    "#to white \n",
    "for x in range(255, -1, -1):\n",
    "    sleep(.1) \n",
    "    strx = '4' + str(x).zfill(3)\n",
    "    byteForm = str.encode(strx)\n",
    "    ser.write(byteForm)\n",
    "#to black\n",
    "for x in range(255, -1, -1):\n",
    "    sleep(.1) \n",
    "    strx = '1' + str(x).zfill(3)\n",
    "    byteForm = str.encode(strx)\n",
    "    ser.write(byteForm)\n",
    "    strx = '2' + str(x).zfill(3)\n",
    "    byteForm = str.encode(strx)\n",
    "    ser.write(byteForm)\n",
    "    strx = '3' + str(x).zfill(3)\n",
    "    byteForm = str.encode(strx)\n",
    "    ser.write(byteForm)"
   ]
  },
  {
   "cell_type": "code",
   "execution_count": null,
   "metadata": {
    "collapsed": true
   },
   "outputs": [],
   "source": []
  },
  {
   "cell_type": "code",
   "execution_count": null,
   "metadata": {
    "collapsed": true
   },
   "outputs": [],
   "source": []
  }
 ],
 "metadata": {
  "anaconda-cloud": {},
  "kernelspec": {
   "display_name": "Python [conda env:synesthesia]",
   "language": "python",
   "name": "conda-env-synesthesia-py"
  },
  "language_info": {
   "codemirror_mode": {
    "name": "ipython",
    "version": 2
   },
   "file_extension": ".py",
   "mimetype": "text/x-python",
   "name": "python",
   "nbconvert_exporter": "python",
   "pygments_lexer": "ipython2",
   "version": "2.7.12"
  }
 },
 "nbformat": 4,
 "nbformat_minor": 0
}
