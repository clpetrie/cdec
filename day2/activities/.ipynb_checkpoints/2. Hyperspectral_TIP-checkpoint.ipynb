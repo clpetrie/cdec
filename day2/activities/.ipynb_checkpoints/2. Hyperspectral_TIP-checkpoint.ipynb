{
 "cells": [
  {
   "cell_type": "markdown",
   "metadata": {},
   "source": [
    "# Displaying hyperspectral images in extra channels"
   ]
  },
  {
   "cell_type": "markdown",
   "metadata": {},
   "source": [
    "Before you start, make sure that you have the correct kernel. Check if the kernel is \"Python 2\" (there is a legend in the upper right corner, below the \"Logout\" button). If it is not Python 2, select Kernel → Change Kernel → Python 2 in the menu bar.\n",
    "Make sure that you fill any place that says \"YOUR CODE HERE\" or \"YOUR ANSWER HERE\", and that you erase the line \"raise NotImplementedError()\" in the code cells."
   ]
  },
  {
   "cell_type": "markdown",
   "metadata": {},
   "source": [
    "# Introduction\n",
    "\n",
    "Now that we know a way to include an extra channel on an RGB image, let's use these tools for displaying information\n",
    "from our hyperspectral images."
   ]
  },
  {
   "cell_type": "markdown",
   "metadata": {},
   "source": [
    "Import modules:"
   ]
  },
  {
   "cell_type": "code",
   "execution_count": 1,
   "metadata": {},
   "outputs": [
    {
     "name": "stdout",
     "output_type": "stream",
     "text": [
      "Populating the interactive namespace from numpy and matplotlib\n"
     ]
    }
   ],
   "source": [
    "import scipy.io\n",
    "import numpy as np\n",
    "from matplotlib import pyplot as plt\n",
    "from matplotlib import image as img\n",
    "import pandas as pd\n",
    "from scipy import interpolate\n",
    "import os\n",
    "import imageio\n",
    "import sys\n",
    "from scipy import signal\n",
    "sys.path.append('../tools/')\n",
    "from Tools import wavelengthToRGB as wl2rgb\n",
    "from Tools import *\n",
    "%load_ext autoreload\n",
    "%autoreload 2\n",
    "%pylab inline\n"
   ]
  },
  {
   "cell_type": "markdown",
   "metadata": {},
   "source": [
    "Hyperspectral image functions: "
   ]
  },
  {
   "cell_type": "code",
   "execution_count": 2,
   "metadata": {
    "collapsed": true
   },
   "outputs": [],
   "source": [
    "def load_PARC_image(file_name):\n",
    "    # This function reads a .bin file from the PARC hyperspectral camera\n",
    "    # and loads it into python as a 3-D matrix (numpy array)\n",
    "    my_img = np.fromfile(file_name, dtype = np.uint16)\n",
    "    my_img = np.reshape(my_img, (141,488,648))\n",
    "    return my_img\n",
    "\n",
    "def get_waves(my_img, resolution = 5, init_nm = 400):\n",
    "    # given a PARC hyperspectral camera image as input\n",
    "    # returns the range of wavelengths to which each slice/matrix corresponds. \n",
    "    waves = np.arange(init_nm, init_nm+resolution*my_img.shape[0], resolution)\n",
    "    return waves\n",
    "\n",
    "def get_nm_ind(waves, nm):\n",
    "    # Returns the wavelength available in a PARC hyperspectral camera image\n",
    "    # and its corresponding index closest\n",
    "    # To a wavelength of interest. \n",
    "    # ind_nm, nm = get_nm_ind(waves, nm)\n",
    "    return [(i,waves[i]) for i in range(len(waves)) if \n",
    "            np.abs(waves[i]-nm)==np.min(np.abs(waves-nm))][0]\n",
    "\n",
    "def display_full_single_channel(my_img, ind_nm, nm, save = False, saveDir = 'image_dir'):\n",
    "    # This function displays a single channel/wavelength/slice\n",
    "    # in grayscale\n",
    "    # ind_nm and nm can be obtained from \n",
    "    # ind_nm, nm = get_nm_ind(waves, nm)\n",
    "    plt.figure(figsize = (10,10))\n",
    "    single_slice = my_img[ind_nm,:,:]\n",
    "    plt.imshow(single_slice, cmap = \"gray\")\n",
    "    plt.title('Single Channel: ' + str(int(nm))+\"nm\", fontsize = 24)\n",
    "\n",
    "    if save: \n",
    "        path_to_file = os.path.join(saveDir, 'single_channel_'+str(nm)+'_nm.pkl')\n",
    "        pkl.dump(single_slice, open(path_to_file, \"wb\"))\n",
    "    \n",
    "    \n",
    "def draw_box(ax, rlim, clim):\n",
    "    # This function is used to draw a red box around a region \n",
    "    # that we'll zoom into. \n",
    "    \n",
    "    xbox = np.linspace(clim[0], clim[1])\n",
    "    ybox = np.linspace(rlim[0], rlim[1])\n",
    "    ax.plot( xbox , rlim[0]*np.ones(len(xbox)),'r' )\n",
    "    ax.plot( xbox , rlim[1]*np.ones(len(xbox)),'r' )\n",
    "    ax.plot( clim[0]*np.ones(len(ybox)), ybox ,'r' )\n",
    "    ax.plot( clim[1]*np.ones(len(ybox)), ybox ,'r' )\n",
    "    \n",
    "def display_part_single_channel(my_img, ind_nm, nm, rlim, clim, fix_tics = True):\n",
    "    # This function displays in grayscale a single channel \n",
    "    # corresponding to wavelength nm (and index ind_nm)\n",
    "    # it zooms in to a region specified by the coordinate range rlim and clim\n",
    "    \n",
    "    fig, (ax1,ax2) = plt.subplots(1,2, figsize = (14,8))\n",
    "    ax1.imshow(my_img[ind_nm,:,:], cmap = \"gray\")\n",
    "    draw_box(ax1, rlim, clim)\n",
    "    ax1.set_xlim(0,my_img.shape[2])\n",
    "    ax1.set_ylim(my_img.shape[1],0)\n",
    "\n",
    "    ax2.imshow(my_img[ind_nm,rlim[0]:rlim[1],clim[0]:clim[1]], cmap = \"gray\")\n",
    "    if fix_tics:\n",
    "        a=ax2.get_yticks().tolist()\n",
    "        new_tics = [ int(yt) for yt in np.linspace(rlim[0], rlim[1], len(a))]\n",
    "        tkn = ax2.set_yticklabels(new_tics)\n",
    "\n",
    "        old_tics=ax2.get_xticks().tolist()\n",
    "        new_tics = [ int(xt) for xt in np.linspace(clim[0], clim[1], len(old_tics))]\n",
    "        tkn = ax2.set_xticklabels(new_tics)\n",
    "        \n",
    "def display_single_channel_centered_at(my_img, ind_nm, nm, rcenter, ccenter, wd=20,fix_tics = True):\n",
    "    # This function displays in grayscale a single channel \n",
    "    # corresponding to wavelength nm (and index ind_nm)\n",
    "    # it zooms in to a region specified by the pixel with coordinates \n",
    "    # rcenter and ccenter. \n",
    "    \n",
    "    fig, (ax1,ax2) = plt.subplots(1,2, figsize = (14,8))\n",
    "    ax1.imshow(my_img[ind_nm,:,:], cmap = \"gray\")\n",
    "    draw_box(ax1, [rcenter-wd, rcenter+wd], [ccenter-wd, ccenter+wd])\n",
    "    ax1.set_xlim(0,my_img.shape[2])\n",
    "    ax1.set_ylim(my_img.shape[1],0)\n",
    "    \n",
    "    ax2.imshow(my_img[ind_nm,rcenter-wd:rcenter+wd,ccenter-wd:ccenter+wd], cmap = \"gray\")\n",
    "    if fix_tics:\n",
    "        a=ax2.get_yticks().tolist()\n",
    "        new_tics = [ int(yt) for yt in np.linspace(rcenter-wd, rcenter+wd, len(a))]\n",
    "        tkn = ax2.set_yticklabels(new_tics)\n",
    "\n",
    "        old_tics=ax2.get_xticks().tolist()\n",
    "        new_tics = [ int(xt) for xt in np.linspace(ccenter-wd, ccenter+wd, len(old_tics))]\n",
    "        tkn = ax2.set_xticklabels(new_tics)\n",
    "        \n",
    "def get_max_wavelength(spectrum, waves):\n",
    "    # This function finds the wavelength with the \n",
    "    # highest intensity in a spectrum\n",
    "    \n",
    "    ind_max = [i for i in range(len(spectrum)) if spectrum[i] == np.max(spectrum)][0]\n",
    "    return int(waves[ind_max])\n",
    "        \n",
    "def single_pxl_spectrum(my_img, ind_nm, nm, rcenter, ccenter, wd = 40):\n",
    "    \n",
    "    #This function plots the full spectrum for a single pixel\n",
    "    #with coordinates rcenter, ccenter\n",
    "    \n",
    "    display_single_channel_centered_at(my_img, ind_nm, nm, rcenter, ccenter, wd)\n",
    "    \n",
    "    plt.figure(figsize = (6,6)) \n",
    "\n",
    "    waves = get_waves(my_img)\n",
    "    spectrum = my_img[:, rcenter, ccenter]\n",
    "    max_freq = get_max_wavelength(spectrum, waves)\n",
    "    \n",
    "    plt.plot(waves, spectrum, lw = 3)\n",
    "    plt.xlabel('Wavelength (nm)', fontsize = 24)\n",
    "    plt.ylabel('Intensity (units)', fontsize = 24)\n",
    "\n",
    "    plt.title('Max. Frequency = ' + str(max_freq) + ' nm', fontsize = 24)\n",
    "    \n",
    "def hyperspectral_2_RGB(my_img, waves):\n",
    "    ### This function takes a hyperspectral image\n",
    "    ### and \"converts\" it to an RGB representation\n",
    "    ### it uses some of the functions in the Tools.py library\n",
    "    ### written by Teresa Tamayo. \n",
    "    my_img_rolled = np.rollaxis(np.rollaxis(my_img,1,0),2,1)\n",
    "    rgb_image = eye_sensitivity(my_img_rolled,waves,tranformation='linear')\n",
    "    rgb_image *=1.5\n",
    "    max_pixel = np.max(rgb_image)\n",
    "    rgb_image_final = rgb_image/max_pixel**1\n",
    "    return rgb_image_final"
   ]
  },
  {
   "cell_type": "markdown",
   "metadata": {},
   "source": [
    "Function definitions:"
   ]
  },
  {
   "cell_type": "code",
   "execution_count": 3,
   "metadata": {
    "collapsed": true
   },
   "outputs": [],
   "source": [
    "def get_uniform_color_img(rgb_vec, image):\n",
    "    #First make a 3-D matrix of the correct shape (same shape as your image)\n",
    "    uniform_color = np.zeros(image.shape)\n",
    "\n",
    "    #Now create three equivalent matrices, R, G, B \n",
    "    single_channel_size = image.shape[:2]\n",
    "    for i in range(len(rgb_vec)):\n",
    "        uniform_color[:,:,i] = rgb_vec[i]*np.ones(single_channel_size)\n",
    "        \n",
    "    return uniform_color\n",
    "    \n",
    "def get_extra_channel_color(uniform_color_img, extra_channel):\n",
    "    extra_channel_color = np.zeros(uniform_color_img.shape)\n",
    "    for i in range(3):\n",
    "        extra_channel_color[:,:,i] = np.multiply(uniform_color_img[:,:,i], extra_channel)\n",
    "    #This normalization is important:\n",
    "    extra_channel_color = extra_channel_color / np.float(extra_channel_color.max())\n",
    "    return extra_channel_color"
   ]
  },
  {
   "cell_type": "markdown",
   "metadata": {
    "nbgrader": {
     "grade": false,
     "grade_id": "4-11",
     "locked": false,
     "points": 3,
     "solution": false
    }
   },
   "source": [
    "Copy and paste below your functions:\n",
    "    * image_interpolation_t\n",
    "    * make_interpolation_movie"
   ]
  },
  {
   "cell_type": "code",
   "execution_count": 5,
   "metadata": {
    "collapsed": true,
    "nbgrader": {
     "grade": true,
     "grade_id": "1-1",
     "locked": false,
     "points": 1,
     "solution": true
    }
   },
   "outputs": [],
   "source": [
    "### BEGIN SOLUTION\n",
    "\n",
    "### END SOLUTION"
   ]
  },
  {
   "cell_type": "markdown",
   "metadata": {},
   "source": [
    "Load a RGB image and display it:\n",
    "Note: It is in image_dir"
   ]
  },
  {
   "cell_type": "code",
   "execution_count": 7,
   "metadata": {
    "collapsed": true,
    "nbgrader": {
     "grade": true,
     "grade_id": "2-1",
     "locked": false,
     "points": 1,
     "solution": true
    }
   },
   "outputs": [
    {
     "data": {
      "text/plain": [
       "<matplotlib.image.AxesImage at 0x286f0c2a9b0>"
      ]
     },
     "execution_count": 7,
     "metadata": {},
     "output_type": "execute_result"
    },
    {
     "data": {
      "image/png": "[encoded data removed]",
      "text/plain": [
       "<matplotlib.figure.Figure at 0x286f04964a8>"
      ]
     },
     "metadata": {},
     "output_type": "display_data"
    }
   ],
   "source": [
    "my_img = img.imread('image_dir/LEDs_4_RGB.png')\n",
    "### BEGIN SOLUTION\n",
    "\n",
    "### END SOLUTION"
   ]
  },
  {
   "cell_type": "markdown",
   "metadata": {},
   "source": [
    "Load hyperspectral and get a cube file (a \"3D-matrix\"), called it hyper_img.\n",
    "Hint: Check out the functions written at the begining."
   ]
  },
  {
   "cell_type": "code",
   "execution_count": 8,
   "metadata": {
    "collapsed": true,
    "nbgrader": {
     "grade": true,
     "grade_id": "3-1",
     "locked": false,
     "points": 1,
     "solution": true
    }
   },
   "outputs": [],
   "source": [
    "file_name = 'image_dir/LEDs_4.bin'\n",
    "### BEGIN SOLUTION\n",
    "\n",
    "### END SOLUTION"
   ]
  },
  {
   "cell_type": "markdown",
   "metadata": {},
   "source": [
    "Now obtain in an array the wavelengths sampled in the image:"
   ]
  },
  {
   "cell_type": "code",
   "execution_count": 9,
   "metadata": {
    "collapsed": true,
    "nbgrader": {
     "grade": false,
     "grade_id": "4-11",
     "locked": false,
     "points": 3,
     "solution": false
    }
   },
   "outputs": [],
   "source": [
    "waves = get_waves(hyper_img)"
   ]
  },
  {
   "cell_type": "markdown",
   "metadata": {},
   "source": [
    "As a warm up, get a the fake RGB image associated with this hyperspectral information, and display it."
   ]
  },
  {
   "cell_type": "code",
   "execution_count": 10,
   "metadata": {
    "collapsed": true,
    "nbgrader": {
     "grade": true,
     "grade_id": "5-1",
     "locked": false,
     "points": 1,
     "solution": true
    }
   },
   "outputs": [
    {
     "data": {
      "text/plain": [
       "<matplotlib.image.AxesImage at 0x28680788278>"
      ]
     },
     "execution_count": 10,
     "metadata": {},
     "output_type": "execute_result"
    },
    {
     "data": {
      "image/png": "[encoded data removed]",
      "text/plain": [
       "<matplotlib.figure.Figure at 0x286f0491518>"
      ]
     },
     "metadata": {},
     "output_type": "display_data"
    }
   ],
   "source": [
    "### BEGIN SOLUTION\n",
    "\n",
    "\n",
    "## Display the image\n",
    "\n",
    "### END SOLUTION"
   ]
  },
  {
   "cell_type": "markdown",
   "metadata": {},
   "source": [
    "Now let's get an extra_channel, let's say the image at 520nm.\n",
    "**Plot a single wavelenght in gray scale**"
   ]
  },
  {
   "cell_type": "code",
   "execution_count": 11,
   "metadata": {
    "collapsed": true,
    "nbgrader": {
     "grade": true,
     "grade_id": "7-1",
     "locked": false,
     "points": 1,
     "solution": true
    }
   },
   "outputs": [
    {
     "data": {
      "text/plain": [
       "<matplotlib.image.AxesImage at 0x286808f7a20>"
      ]
     },
     "execution_count": 11,
     "metadata": {},
     "output_type": "execute_result"
    },
    {
     "data": {
      "image/png": "[encoded data removed]",
      "text/plain": [
       "<matplotlib.figure.Figure at 0x28681144b70>"
      ]
     },
     "metadata": {},
     "output_type": "display_data"
    }
   ],
   "source": [
    "nm = 520\n",
    "ind_nm, nm = get_nm_ind(waves, nm)\n",
    "extra_channel = hyper_img[ind_nm, :,:]\n",
    "### BEGIN SOLUTION\n",
    "\n",
    "### END SOLUTION"
   ]
  },
  {
   "cell_type": "markdown",
   "metadata": {},
   "source": [
    "With this extra channel, let's make movie: "
   ]
  },
  {
   "cell_type": "code",
   "execution_count": 12,
   "metadata": {
    "collapsed": true
   },
   "outputs": [],
   "source": [
    "num_cycles = 5\n",
    "cycle = signal.triang(20, sym = 0)\n",
    "t_vec = np.array(num_cycles * list(cycle) )"
   ]
  },
  {
   "cell_type": "code",
   "execution_count": 13,
   "metadata": {
    "collapsed": true,
    "nbgrader": {
     "grade": true,
     "grade_id": "8",
     "locked": false,
     "points": 1,
     "solution": true
    }
   },
   "outputs": [],
   "source": [
    "#Input Parameters \n",
    "my_fps = 10\n",
    "wavelength = 520\n",
    "\n",
    "# Get the extra channel image\n",
    "### BEGIN SOLUTION\n",
    "\n",
    "### END SOLUTION\n",
    "\n",
    "# Get the RGB vector that wavelengt\n",
    "### BEGIN SOLUTION\n",
    "\n",
    "### END SOLUTION"
   ]
  },
  {
   "cell_type": "code",
   "execution_count": 14,
   "metadata": {
    "collapsed": true,
    "nbgrader": {
     "grade": true,
     "grade_id": "9",
     "locked": false,
     "points": 1,
     "solution": true
    }
   },
   "outputs": [
    {
     "name": "stderr",
     "output_type": "stream",
     "text": [
      "C:\\Anaconda3\\lib\\site-packages\\imageio\\core\\util.py:78: UserWarning: Lossy conversion from float64 to uint8, range [0, 1]\n",
      "  dtype_str, out_type.__name__))\n"
     ]
    }
   ],
   "source": [
    "# Call the necessary function add some color to the extra channel with\n",
    "# the rgb color of that wavelength\n",
    "### BEGIN SOLUTION\n",
    "\n",
    "### END SOLUTION\n",
    "\n",
    "# Make a movie\n",
    "### BEGIN SOLUTION\n",
    "\n",
    "### END SOLUTION"
   ]
  },
  {
   "cell_type": "markdown",
   "metadata": {
    "collapsed": true
   },
   "source": [
    "Now let's put everything together, we are getting ready to process any hyperspectral image!!\n"
   ]
  },
  {
   "cell_type": "code",
   "execution_count": 15,
   "metadata": {
    "collapsed": true,
    "nbgrader": {
     "grade": true,
     "grade_id": "10",
     "locked": false,
     "points": 1,
     "solution": true
    }
   },
   "outputs": [],
   "source": [
    "def make_interpolation_movie_hyper(hyper_file,wavelength, movie='movie.gif',num_cycles = 5,fps=10):\n",
    "    ''' This creates a gif file that contains an extrachannel that varies on time\n",
    "    with the information of the \n",
    "     intensities and color of a given wavelenght to the fake RGB image of \n",
    "     a hyperspectral information\n",
    "    INPUTS:\n",
    "        hyper_file -> name with path of a cube file\n",
    "        wavelength -> wavelenght to display\n",
    "        movie -> name of the gif file\n",
    "        num_cycles -> number of cycles for the movie\n",
    "        '''\n",
    "    ### BEGIN SOLUTION\n",
    "    # Loading a file\n",
    "\n",
    "    \n",
    "    # Get waves\n",
    "\n",
    "    \n",
    "    # RGB\n",
    "\n",
    "    \n",
    "    # \"Times\"\n",
    "\n",
    "    \n",
    "    # RGB vec\n",
    "\n",
    "    \n",
    "    ### END SOLUTION\n",
    "    "
   ]
  },
  {
   "cell_type": "markdown",
   "metadata": {},
   "source": [
    "Test your function with different wavelenghts:"
   ]
  },
  {
   "cell_type": "code",
   "execution_count": 16,
   "metadata": {
    "collapsed": true,
    "nbgrader": {
     "grade": true,
     "grade_id": "11",
     "locked": false,
     "points": 1,
     "solution": true
    }
   },
   "outputs": [
    {
     "name": "stderr",
     "output_type": "stream",
     "text": [
      "C:\\Anaconda3\\lib\\site-packages\\imageio\\core\\util.py:78: UserWarning: Lossy conversion from float64 to uint8, range [0, 1]\n",
      "  dtype_str, out_type.__name__))\n"
     ]
    }
   ],
   "source": [
    "### BEGIN SOLUTION\n",
    "\n",
    "### END SOLUTION"
   ]
  },
  {
   "cell_type": "markdown",
   "metadata": {},
   "source": [
    "# Futher directions:"
   ]
  },
  {
   "cell_type": "markdown",
   "metadata": {},
   "source": [
    "## How would you add another channel? Let's say two different wavelengths?\n",
    "## How would you add a band?"
   ]
  },
  {
   "cell_type": "markdown",
   "metadata": {},
   "source": []
  },
  {
   "cell_type": "code",
   "execution_count": null,
   "metadata": {
    "collapsed": true
   },
   "outputs": [],
   "source": []
  }
 ],
 "metadata": {
  "anaconda-cloud": {},
  "celltoolbar": "Create Assignment",
  "kernelspec": {
   "display_name": "Python 2",
   "language": "python",
   "name": "python2"
  },
  "language_info": {
   "codemirror_mode": {
    "name": "ipython",
    "version": 2
   },
   "file_extension": ".py",
   "mimetype": "text/x-python",
   "name": "python",
   "nbconvert_exporter": "python",
   "pygments_lexer": "ipython2",
   "version": "2.7.13"
  }
 },
 "nbformat": 4,
 "nbformat_minor": 2
}
